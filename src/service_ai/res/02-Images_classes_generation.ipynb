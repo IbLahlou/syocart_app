{
 "cells": [
  {
   "cell_type": "code",
   "execution_count": 1,
   "metadata": {},
   "outputs": [],
   "source": [
    "import pandas as pd\n",
    "import os"
   ]
  },
  {
   "cell_type": "code",
   "execution_count": null,
   "metadata": {},
   "outputs": [
    {
     "data": {
      "text/html": [
       "<div>\n",
       "<style scoped>\n",
       "    .dataframe tbody tr th:only-of-type {\n",
       "        vertical-align: middle;\n",
       "    }\n",
       "\n",
       "    .dataframe tbody tr th {\n",
       "        vertical-align: top;\n",
       "    }\n",
       "\n",
       "    .dataframe thead th {\n",
       "        text-align: right;\n",
       "    }\n",
       "</style>\n",
       "<table border=\"1\" class=\"dataframe\">\n",
       "  <thead>\n",
       "    <tr style=\"text-align: right;\">\n",
       "      <th></th>\n",
       "      <th>Unnamed: 0</th>\n",
       "      <th>Food</th>\n",
       "      <th>Measure</th>\n",
       "      <th>Grams</th>\n",
       "      <th>Calories</th>\n",
       "      <th>Protein</th>\n",
       "      <th>Fat</th>\n",
       "      <th>Sat.Fat</th>\n",
       "      <th>Fiber</th>\n",
       "      <th>Carbs</th>\n",
       "      <th>Category</th>\n",
       "    </tr>\n",
       "  </thead>\n",
       "  <tbody>\n",
       "    <tr>\n",
       "      <th>0</th>\n",
       "      <td>0</td>\n",
       "      <td>Cows' milk</td>\n",
       "      <td>1 qt.</td>\n",
       "      <td>976</td>\n",
       "      <td>660.0</td>\n",
       "      <td>32</td>\n",
       "      <td>40</td>\n",
       "      <td>36.0</td>\n",
       "      <td>0.0</td>\n",
       "      <td>48.0</td>\n",
       "      <td>Dairy</td>\n",
       "    </tr>\n",
       "    <tr>\n",
       "      <th>1</th>\n",
       "      <td>1</td>\n",
       "      <td>Milk skim</td>\n",
       "      <td>1 qt.</td>\n",
       "      <td>984</td>\n",
       "      <td>360.0</td>\n",
       "      <td>36</td>\n",
       "      <td>0</td>\n",
       "      <td>0.0</td>\n",
       "      <td>0.0</td>\n",
       "      <td>52.0</td>\n",
       "      <td>Dairy</td>\n",
       "    </tr>\n",
       "    <tr>\n",
       "      <th>2</th>\n",
       "      <td>2</td>\n",
       "      <td>Buttermilk</td>\n",
       "      <td>1 cup</td>\n",
       "      <td>246</td>\n",
       "      <td>127.0</td>\n",
       "      <td>9</td>\n",
       "      <td>5</td>\n",
       "      <td>4.0</td>\n",
       "      <td>0.0</td>\n",
       "      <td>13.0</td>\n",
       "      <td>Dairy</td>\n",
       "    </tr>\n",
       "    <tr>\n",
       "      <th>3</th>\n",
       "      <td>3</td>\n",
       "      <td>Evaporated undiluted</td>\n",
       "      <td>1 cup</td>\n",
       "      <td>252</td>\n",
       "      <td>345.0</td>\n",
       "      <td>16</td>\n",
       "      <td>20</td>\n",
       "      <td>18.0</td>\n",
       "      <td>0.0</td>\n",
       "      <td>24.0</td>\n",
       "      <td>Dairy</td>\n",
       "    </tr>\n",
       "    <tr>\n",
       "      <th>4</th>\n",
       "      <td>4</td>\n",
       "      <td>Fortified milk</td>\n",
       "      <td>6 cups</td>\n",
       "      <td>1419</td>\n",
       "      <td>1373.0</td>\n",
       "      <td>89</td>\n",
       "      <td>42</td>\n",
       "      <td>23.0</td>\n",
       "      <td>1.4</td>\n",
       "      <td>119.0</td>\n",
       "      <td>Dairy</td>\n",
       "    </tr>\n",
       "  </tbody>\n",
       "</table>\n",
       "</div>"
      ],
      "text/plain": [
       "   Unnamed: 0                  Food Measure  Grams  Calories  Protein  Fat  \\\n",
       "0           0            Cows' milk   1 qt.    976     660.0       32   40   \n",
       "1           1             Milk skim   1 qt.    984     360.0       36    0   \n",
       "2           2            Buttermilk   1 cup    246     127.0        9    5   \n",
       "3           3  Evaporated undiluted   1 cup    252     345.0       16   20   \n",
       "4           4        Fortified milk  6 cups   1419    1373.0       89   42   \n",
       "\n",
       "   Sat.Fat  Fiber  Carbs Category  \n",
       "0     36.0    0.0   48.0    Dairy  \n",
       "1      0.0    0.0   52.0    Dairy  \n",
       "2      4.0    0.0   13.0    Dairy  \n",
       "3     18.0    0.0   24.0    Dairy  \n",
       "4     23.0    1.4  119.0    Dairy  "
      ]
     },
     "execution_count": 11,
     "metadata": {},
     "output_type": "execute_result"
    }
   ],
   "source": [
    "df=pd.read_csv(\"../artifacts/data/01-Food-Classes/food.csv\",index=False)\n",
    "df.head()"
   ]
  },
  {
   "cell_type": "code",
   "execution_count": 12,
   "metadata": {},
   "outputs": [
    {
     "data": {
      "text/plain": [
       "array(['Dairy', 'Fats', 'Meat Poultry', 'Fish Seafood', 'Vegetables',\n",
       "       'Fruits', 'Starchy', 'Soups', 'Sweets', 'Jams Jellies',\n",
       "       'Seeds-nuts', 'Beverages'], dtype=object)"
      ]
     },
     "execution_count": 12,
     "metadata": {},
     "output_type": "execute_result"
    }
   ],
   "source": [
    "food_class=df[\"Category\"].unique()\n",
    "food_class"
   ]
  },
  {
   "cell_type": "code",
   "execution_count": 13,
   "metadata": {},
   "outputs": [
    {
     "name": "stdout",
     "output_type": "stream",
     "text": [
      "Folder already exists for category: Dairy\n",
      "Folder already exists for category: Fats\n",
      "Folder already exists for category: Meat Poultry\n",
      "Folder already exists for category: Fish Seafood\n",
      "Folder already exists for category: Vegetables\n",
      "Folder already exists for category: Fruits\n",
      "Folder already exists for category: Starchy\n",
      "Folder already exists for category: Soups\n",
      "Folder already exists for category: Sweets\n",
      "Folder already exists for category: Jams Jellies\n",
      "Folder already exists for category: Seeds-nuts\n",
      "Folder already exists for category: Beverages\n"
     ]
    }
   ],
   "source": [
    "import os\n",
    "\n",
    "# Specify the parent directory where you want to create the folders\n",
    "parent_directory = \"../artifacts/data/02-Food-Images\"\n",
    "\n",
    "# Iterate over unique categories and create folders\n",
    "for category in food_class:\n",
    "    # Create the path for the category folder\n",
    "    category_path = os.path.join(parent_directory, str(category))\n",
    "    \n",
    "    # Check if the folder already exists\n",
    "    if not os.path.exists(category_path):\n",
    "        # If it doesn't exist, create the folder\n",
    "        os.makedirs(category_path)\n",
    "        print(f\"Folder created for category: {category}\")\n",
    "    else:\n",
    "        print(f\"Folder already exists for category: {category}\")"
   ]
  },
  {
   "cell_type": "code",
   "execution_count": null,
   "metadata": {},
   "outputs": [],
   "source": []
  }
 ],
 "metadata": {
  "kernelspec": {
   "display_name": "base",
   "language": "python",
   "name": "python3"
  },
  "language_info": {
   "codemirror_mode": {
    "name": "ipython",
    "version": 3
   },
   "file_extension": ".py",
   "mimetype": "text/x-python",
   "name": "python",
   "nbconvert_exporter": "python",
   "pygments_lexer": "ipython3",
   "version": "3.10.9"
  }
 },
 "nbformat": 4,
 "nbformat_minor": 2
}
